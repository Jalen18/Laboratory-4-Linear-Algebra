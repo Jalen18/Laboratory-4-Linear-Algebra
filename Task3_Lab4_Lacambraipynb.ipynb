{
  "nbformat": 4,
  "nbformat_minor": 0,
  "metadata": {
    "colab": {
      "name": "Task3_Lab4_Lacambraipynb",
      "provenance": [],
      "authorship_tag": "ABX9TyMpFJia+EtiHIx+DMviUkb2",
      "include_colab_link": true
    },
    "kernelspec": {
      "name": "python3",
      "display_name": "Python 3"
    }
  },
  "cells": [
    {
      "cell_type": "markdown",
      "metadata": {
        "id": "view-in-github",
        "colab_type": "text"
      },
      "source": [
        "<a href=\"https://colab.research.google.com/github/Jalen18/Laboratory-4-Linear-Algebra/blob/main/Task3_Lab4_Lacambraipynb.ipynb\" target=\"_parent\"><img src=\"https://colab.research.google.com/assets/colab-badge.svg\" alt=\"Open In Colab\"/></a>"
      ]
    },
    {
      "cell_type": "code",
      "metadata": {
        "colab": {
          "base_uri": "https://localhost:8080/",
          "height": 320
        },
        "id": "hqHB68KbVyT2",
        "outputId": "09e53344-a920-4517-c211-759de4b66b55"
      },
      "source": [
        "import numpy as np\r\n",
        "import matplotlib.pyplot as plt\r\n",
        "\r\n",
        "a = np.array([-0.4, 4.3, -0.6])\r\n",
        "b = np.array([-0.2, 0.2,  1.0])\r\n",
        "c = np.array([-0.2, 2.1, -1.5])\r\n",
        "\r\n",
        "plt.xlim(-5,9)\r\n",
        "plt.ylim(4,7.5)\r\n",
        "\r\n",
        "answer = ((np.square(a) + np.square(b) + np.square(c)) * (np.divide(np.multiply(a,(np.add(b, (np.multiply(a,b))))),c)))*(np.linalg.norm(a+b+c))\r\n",
        "print('(A**2 + B**2 + C**2)*(A*(B+A*B)/C)*||A + B + C||=',answer)\r\n",
        "\r\n",
        "plt.quiver(a[0], a[1], b[0], b[1], angles='xy', scale_units='xy', scale=1, color='green')\r\n",
        "plt.quiver(a[0] + b[0], a[1] + b[1], c[0], c[1], angles='xy', scale_units='xy', scale=1, color='red')\r\n",
        "d = b + c\r\n",
        "plt.quiver(a[0], a[1], d[0], d[1] ,angles='xy', scale_units='xy', scale=1, color='blue')\r\n",
        "\r\n",
        "R_mag = np.sqrt(np.sum(b**2+c**2))\r\n",
        "rise = c[1]\r\n",
        "run = c[0]\r\n",
        "slope = rise/run\r\n",
        "print('The slope is: ',slope)\r\n",
        "\r\n",
        "plt.grid()\r\n",
        "plt.legend()\r\n",
        "plt.show()"
      ],
      "execution_count": 11,
      "outputs": [
        {
          "output_type": "stream",
          "text": [
            "No handles with labels found to put in legend.\n"
          ],
          "name": "stderr"
        },
        {
          "output_type": "stream",
          "text": [
            "(A**2 + B**2 + C**2)*(A*(B+A*B)/C)*||A + B + C||= [ -0.38814879 335.52446352   3.89226979]\n",
            "The slope is:  -10.5\n"
          ],
          "name": "stdout"
        },
        {
          "output_type": "display_data",
          "data": {
            "image/png": "[encoded data removed]",
            "text/plain": [
              "<Figure size 432x288 with 1 Axes>"
            ]
          },
          "metadata": {
            "tags": [],
            "needs_background": "light"
          }
        }
      ]
    }
  ]
}