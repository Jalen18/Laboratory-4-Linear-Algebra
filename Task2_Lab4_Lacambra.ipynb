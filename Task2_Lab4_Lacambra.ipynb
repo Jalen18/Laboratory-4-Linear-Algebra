{
  "nbformat": 4,
  "nbformat_minor": 0,
  "metadata": {
    "colab": {
      "name": "Task2_Lab4_Lacambra.ipynb",
      "provenance": [],
      "authorship_tag": "ABX9TyO7BfAAbYK2sJ1bLMXIqGHs",
      "include_colab_link": true
    },
    "kernelspec": {
      "name": "python3",
      "display_name": "Python 3"
    }
  },
  "cells": [
    {
      "cell_type": "markdown",
      "metadata": {
        "id": "view-in-github",
        "colab_type": "text"
      },
      "source": [
        "<a href=\"https://colab.research.google.com/github/Jalen18/Laboratory-4-Linear-Algebra/blob/main/Task2_Lab4_Lacambra.ipynb\" target=\"_parent\"><img src=\"https://colab.research.google.com/assets/colab-badge.svg\" alt=\"Open In Colab\"/></a>"
      ]
    },
    {
      "cell_type": "code",
      "metadata": {
        "id": "WPvjBnnSUx_Y"
      },
      "source": [
        "VectorA = [(6,7,8,9)]\r\n",
        "VectorB = [(20,22,24,26)]\r\n",
        "VectorC = [(15,18,21,24)]\r\n",
        "VectorD = [(12,16,20,24)]\r\n",
        "VectorE = [(10,15,20,25)]\r\n",
        "VectorF = [(10,16,22,28)]\r\n",
        "VectorG = [(10,11,12,13)]\r\n",
        "VectorH = [(12,20,28,36)]\r\n",
        "VectorI = [(10,19,28,37)]\r\n",
        "VectorJ = [(10,20,30,40)]\r\n",
        "\r\n",
        "VA = []\r\n",
        "VB = []\r\n",
        "VC = []\r\n",
        "VD = []\r\n",
        "VE = []\r\n",
        "\r\n",
        "print('vector A',VectorA 'and vector B',VectorB)\r\n",
        "for i in range(len(VectorA)):\r\n",
        "  IPF1 =  VectorA[i] * VectorB[i]\r\n",
        "  VA.append(IPF1)\r\n",
        "print('VectorA and VectorB:',VA)\r\n",
        "print('Inner Product of the Sum A and B:',sum(VA))\r\n",
        "print('')\r\n",
        "print('######################################')\r\n",
        "print('vector C',VectorC 'and vector D',VectorD)\r\n",
        "for i in range(len(VectorC)):\r\n",
        "  IPF2 =  VectorC[i] * VectorD[i]\r\n",
        "  VB.append(IPF2)\r\n",
        "print('VectorC and VectorD:',VB)\r\n",
        "print('Inner Product of the Sum A and B:',sum(VB))\r\n",
        "print('')\r\n",
        "print('######################################')\r\n",
        "print('vector E',VectorE 'and vector F',VectorF)\r\n",
        "for i in range(len(VectorC)):\r\n",
        "  IPF3 =  VectorE[i] * VectorF[i]\r\n",
        "  VC.append(IPF3)\r\n",
        "print('VectorC and VectorD:',VC)\r\n",
        "print('Inner Product of the Sum A and B:',sum(VC))\r\n",
        "print('')\r\n",
        "print('######################################')\r\n"
      ],
      "execution_count": null,
      "outputs": []
    }
  ]
}